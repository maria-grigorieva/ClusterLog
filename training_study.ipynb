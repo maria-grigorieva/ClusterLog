{
 "cells": [
  {
   "cell_type": "code",
   "execution_count": 3,
   "metadata": {},
   "outputs": [],
   "source": [
    "import unique\n",
    "import pandas as pd\n",
    "from time import time\n",
    "from gensim.models import Word2Vec\n",
    "import csv\n",
    "import numpy as np"
   ]
  },
  {
   "cell_type": "code",
   "execution_count": 18,
   "metadata": {},
   "outputs": [],
   "source": [
    "start_date='2020/01/01'\n",
    "end_date='2020/04/24'\n",
    "hdir='hdfs:///project/monitoring/archive/fts/raw/complete'   \n",
    "\n",
    "dd=pd.date_range(start=start_date,end=end_date)\n",
    "\n",
    "hpath=[]\n",
    "path_list=[]\n",
    "count=1\n",
    "\n",
    "for day in dd:\n",
    "    hpath.append('%s/%s' %(hdir, day.strftime(\"%y%y/%m/%d\")))\n",
    "    path_list.append(hpath[:count])\n",
    "    count=count+1\n",
    "   "
   ]
  },
  {
   "cell_type": "code",
   "execution_count": null,
   "metadata": {},
   "outputs": [],
   "source": []
  },
  {
   "cell_type": "code",
   "execution_count": 17,
   "metadata": {},
   "outputs": [
    {
     "data": {
      "text/plain": [
       "118"
      ]
     },
     "execution_count": 17,
     "metadata": {},
     "output_type": "execute_result"
    }
   ],
   "source": [
    "count\n"
   ]
  },
  {
   "cell_type": "code",
   "execution_count": 4,
   "metadata": {},
   "outputs": [],
   "source": [
    "count=len(path_list)\n",
    "start_time = time()\n",
    "fts,bf_n,af_n=unique.preprocMex(spark,path_list[len(path_list)-1],clean_short=True,stop_one=False).process()\n",
    "tokenized = unique.MyCorpus(fts)\n",
    "model = Word2Vec(sentences=tokenized,compute_loss=False,size=300,window=7, min_count=2, workers=4, iter=30)\n",
    "tim=time()- start_time\n",
    "model.save('models/new_model_NUCLEUS.model')"
   ]
  },
  {
   "cell_type": "code",
   "execution_count": 5,
   "metadata": {},
   "outputs": [
    {
     "name": "stdout",
     "output_type": "stream",
     "text": [
      "total time 2728.198531s\n"
     ]
    }
   ],
   "source": [
    "print('total time %f'% tim+'s')\n"
   ]
  },
  {
   "cell_type": "code",
   "execution_count": 6,
   "metadata": {},
   "outputs": [],
   "source": []
  },
  {
   "cell_type": "code",
   "execution_count": 4,
   "metadata": {},
   "outputs": [
    {
     "name": "stdout",
     "output_type": "stream",
     "text": [
      "finished day 1\n",
      "finished day 2\n",
      "finished day 3\n",
      "finished day 4\n",
      "finished day 5\n",
      "finished day 6\n",
      "finished day 7\n",
      "finished day 8\n",
      "finished day 9\n",
      "finished day 10\n",
      "finished day 11\n",
      "finished day 12\n",
      "finished day 13\n",
      "finished day 14\n",
      "finished day 15\n",
      "finished day 16\n",
      "finished day 17\n",
      "finished day 18\n",
      "finished day 19\n",
      "finished day 20\n",
      "finished day 22\n",
      "finished day 23\n"
     ]
    },
    {
     "name": "stderr",
     "output_type": "stream",
     "text": [
      "IOPub message rate exceeded.\n",
      "The notebook server will temporarily stop sending output\n",
      "to the client in order to avoid crashing it.\n",
      "To change this limit, set the config variable\n",
      "`--NotebookApp.iopub_msg_rate_limit`.\n",
      "\n",
      "Current values:\n",
      "NotebookApp.iopub_msg_rate_limit=1000.0 (msgs/sec)\n",
      "NotebookApp.rate_limit_window=3.0 (secs)\n",
      "\n"
     ]
    },
    {
     "name": "stdout",
     "output_type": "stream",
     "text": [
      "finished day 25\n",
      "finished day 26\n",
      "finished day 27\n",
      "finished day 28\n",
      "finished day 29\n",
      "finished day 30\n",
      "finished day 31\n",
      "finished day 32\n",
      "finished day 33\n",
      "finished day 34\n",
      "finished day 35\n",
      "finished day 36\n",
      "finished day 37\n",
      "finished day 38\n",
      "finished day 39\n",
      "finished day 40\n",
      "finished day 41\n",
      "finished day 42\n",
      "finished day 43\n",
      "finished day 44\n",
      "finished day 45\n",
      "finished day 46\n",
      "finished day 47\n",
      "finished day 48\n",
      "finished day 49\n",
      "finished day 50\n",
      "finished day 51\n",
      "finished day 52\n",
      "finished day 53\n",
      "finished day 54\n",
      "finished day 55\n",
      "finished day 56\n",
      "finished day 57\n"
     ]
    }
   ],
   "source": [
    "count=1\n",
    "#count=245\n",
    "for iPath in hpath:\n",
    "    start_time_clean = time()\n",
    "    fts,bf_n,af_n=unique.preprocMex(spark,iPath,clean_short=True,stop_one=True).process()\n",
    "   \n",
    "    print('finished day',count)\n",
    "#     if(count==len(dd) or count%28==0):\n",
    "#         fts.error_message.to_csv('equal_messages_cleaned{}.csv'.format(count))\n",
    "    with open('../comparison/no_nucleus.csv', mode='a',newline='') as tFile:\n",
    "        file_writer = csv.writer(tFile)\n",
    "        file_writer.writerow([bf_n,af_n])\n",
    "    #model.save('modelmin_count2_default_cleanshortTrue/day_{}.model'.format(dd[count-1].strftime(\"%y%y_%m_%d\")))\n",
    "   \n",
    "    count=count+1"
   ]
  }
 ],
 "metadata": {
  "kernelspec": {
   "display_name": "Python 3",
   "language": "python",
   "name": "python3"
  },
  "language_info": {
   "codemirror_mode": {
    "name": "ipython",
    "version": 3
   },
   "file_extension": ".py",
   "mimetype": "text/x-python",
   "name": "python",
   "nbconvert_exporter": "python",
   "pygments_lexer": "ipython3",
   "version": "3.8.8"
  },
  "sparkconnect": {
   "bundled_options": [],
   "list_of_options": []
  }
 },
 "nbformat": 4,
 "nbformat_minor": 4
}
