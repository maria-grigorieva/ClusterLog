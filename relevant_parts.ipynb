{
 "cells": [
  {
   "cell_type": "code",
   "execution_count": 77,
   "metadata": {},
   "outputs": [],
   "source": [
    "import re\n",
    "\n",
    "from itertools import product\n",
    "\n",
    "from torch import argmax\n",
    "from transformers import BertTokenizerFast, BertForTokenClassification"
   ]
  },
  {
   "cell_type": "code",
   "execution_count": 83,
   "metadata": {},
   "outputs": [],
   "source": [
    "model = BertForTokenClassification.from_pretrained(\"./BERT_model/checkpoint-2000\")\n",
    "tokenizer = BertTokenizerFast.from_pretrained('bert-base-cased')\n",
    "tokenizer.add_tokens(\"(.*?)\")\n",
    "\n",
    "sentences = [\n",
    "    'Non-zero return code from generate (65); Logfile error in log.generate: \"\"Pythia8             FATAL /build/atnight/localbuilds/nightlies/21.6/athena/Generators/GeneratorModules/src/GenModule.cxx:56 (StatusCode GenModule::execute()): code 0: this (truncated)',\n",
    "    'Non-zero return code from AODtoDAOD (65); Logfile error in log.AODtoDAOD: \"\"StreamDAOD_STDM4                                    FATAL streamObjects failed.\"\"',\n",
    "    'Found 0 output files for DAOD, expected 8 (found: [])',\n",
    "    'Fatal error in athena logfile: \"\"G4 exception at line 56998 (see jobReport for further details)\"\"',\n",
    "    'AODtoDAOD got a SIGABRT signal (exit code 134); Logfile error in log.AODtoDAOD: \"\"Core dump from CoreDumpSvc: Event counter: 17596; Run: 284500; Evt: 9315118; Current algorithm: TEST13Kernel; Current Function: unknown\"\"',\n",
    "    'Data type graph error'\n",
    "]\n",
    "\n",
    "tokenized = [tokenizer(sentence, return_tensors='pt') for sentence in sentences]"
   ]
  },
  {
   "cell_type": "markdown",
   "metadata": {},
   "source": [
    "TODO: Some way to get the labels automatically, if possible"
   ]
  },
  {
   "cell_type": "code",
   "execution_count": 84,
   "metadata": {},
   "outputs": [],
   "source": [
    "all_labels = ['[PAD]', 'O'] + [f\"{prefix}-{label}\" for prefix, label in product('BILU', [\"Meaningful\", \"Meaningless\"])]\n",
    "id_to_label = {i: label for i, label in enumerate(all_labels)}"
   ]
  },
  {
   "cell_type": "markdown",
   "metadata": {},
   "source": [
    "That's a bit of a weird way to get relevant sentence parts.\n",
    "I had to do it this way because tokenization is, as far as I can tell, irreversible.\n",
    "So I had to use initial sentence to get the correct spacing.\n",
    "\n",
    "**That's a hack, will need to do better later**"
   ]
  },
  {
   "cell_type": "code",
   "execution_count": 87,
   "metadata": {},
   "outputs": [
    {
     "name": "stdout",
     "output_type": "stream",
     "text": [
      "Non-zero return code from generate (65); Logfile error in log.generate: \"\"Pythia8             FATAL /build/atnight/localbuilds/nightlies/21.6/athena/Generators/GeneratorModules/src/GenModule.cxx:56 (StatusCode GenModule::execute()): code 0: this (truncated)\n",
      "Pythia8 FATAL /build/atnight/localbuilds/nightlies/21.6/athena/Generators/GeneratorModules/src/GenModule.cxx:56 (StatusCode GenModule::execute()): code 0: this (truncated)\n",
      "\n",
      "Non-zero return code from AODtoDAOD (65); Logfile error in log.AODtoDAOD: \"\"StreamDAOD_STDM4                                    FATAL streamObjects failed.\"\"\n",
      "StreamDAOD_STDM4 FATAL streamObjects failed\n",
      "\n",
      "Found 0 output files for DAOD, expected 8 (found: [])\n",
      "0 output files for DAOD, expected 8 (found: [\n",
      "\n",
      "Fatal error in athena logfile: \"\"G4 exception at line 56998 (see jobReport for further details)\"\"\n",
      "G4 exception at line 56998 (see jobReport for further details)\n",
      "\n",
      "AODtoDAOD got a SIGABRT signal (exit code 134); Logfile error in log.AODtoDAOD: \"\"Core dump from CoreDumpSvc: Event counter: 17596; Run: 284500; Evt: 9315118; Current algorithm: TEST13Kernel; Current Function: unknown\"\"\n",
      "Core dump from CoreDumpSvc: Event counter: 17596; Run: 284500; Evt: 9315118; Current algorithm: TEST13Kernel; Current Function: unknown\n",
      "\n",
      "Data type graph error\n",
      "Data type graph error\n",
      "\n"
     ]
    }
   ],
   "source": [
    "spaces = re.compile(r'\\s+')\n",
    "\n",
    "for sentence, initial_sentence in zip(tokenized, sentences):\n",
    "    i = 0\n",
    "    beginnings, ends = [], []\n",
    "\n",
    "    output = model(**sentence)\n",
    "    predictions = argmax(output.logits, dim=2)\n",
    "\n",
    "    for token, prediction in zip(sentence.tokens(), predictions[0].numpy()):\n",
    "        if token in ['[CLS]', '[SEP]']:\n",
    "            continue\n",
    "        if token.startswith(\"##\"):\n",
    "            token = token[2:]\n",
    "\n",
    "        i += initial_sentence[i:].find(token)\n",
    "        predicted_label = id_to_label[prediction]\n",
    "        if predicted_label[2:] == \"Meaningful\":\n",
    "            beginnings.append(i)\n",
    "            ends.append(i + len(token))\n",
    "\n",
    "    print(initial_sentence)\n",
    "    print(spaces.sub(' ', initial_sentence[beginnings[0]:ends[-1]]), end='\\n\\n')\n"
   ]
  },
  {
   "cell_type": "code",
   "execution_count": null,
   "metadata": {},
   "outputs": [],
   "source": []
  }
 ],
 "metadata": {
  "interpreter": {
   "hash": "98b0a9b7b4eaaa670588a142fd0a9b87eaafe866f1db4228be72b4211d12040f"
  },
  "kernelspec": {
   "display_name": "Python 3.8.10 64-bit ('base': conda)",
   "name": "python3"
  },
  "language_info": {
   "codemirror_mode": {
    "name": "ipython",
    "version": 3
   },
   "file_extension": ".py",
   "mimetype": "text/x-python",
   "name": "python",
   "nbconvert_exporter": "python",
   "pygments_lexer": "ipython3",
   "version": "3.8.10"
  },
  "orig_nbformat": 4
 },
 "nbformat": 4,
 "nbformat_minor": 2
}